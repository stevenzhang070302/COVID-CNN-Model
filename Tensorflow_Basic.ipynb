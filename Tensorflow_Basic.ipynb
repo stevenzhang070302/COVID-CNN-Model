{
 "cells": [
  {
   "cell_type": "markdown",
   "source": [
    "# TensorFlow Basics Introduction\r\n",
    "By: Steven Zhang, Chenqian Xu, Xin He"
   ],
   "metadata": {}
  },
  {
   "cell_type": "code",
   "execution_count": null,
   "source": [
    "import tensorflow as tf\r\n",
    "import numpy as np"
   ],
   "outputs": [],
   "metadata": {}
  },
  {
   "cell_type": "markdown",
   "source": [
    "# Tensors"
   ],
   "metadata": {}
  },
  {
   "cell_type": "markdown",
   "source": [
    "use tf.constant() or tf.convert_to_tensor()"
   ],
   "metadata": {}
  },
  {
   "cell_type": "markdown",
   "source": [
    "## Scalar"
   ],
   "metadata": {}
  },
  {
   "cell_type": "code",
   "execution_count": null,
   "source": [
    "rank_0_tensor = tf.constant(4.)\r\n",
    "print(rank_0_tensor)\r\n",
    "rank_0_tensor = tf.constant(4)\r\n",
    "print(rank_0_tensor)"
   ],
   "outputs": [],
   "metadata": {}
  },
  {
   "cell_type": "markdown",
   "source": [
    "## Vector"
   ],
   "metadata": {}
  },
  {
   "cell_type": "code",
   "execution_count": null,
   "source": [
    "rank_1_tensor = tf.constant([2.0, 3.0, 4.0])\r\n",
    "print(rank_1_tensor)\r\n",
    "rank_1_tensor = tf.constant([2, 3, 4.0])\r\n",
    "print(rank_1_tensor)\r\n",
    "rank_1_tensor = tf.constant([2, 3, 4])\r\n",
    "print(rank_1_tensor)\r\n",
    "#print(rank_1_tensor.numpy())"
   ],
   "outputs": [],
   "metadata": {}
  },
  {
   "cell_type": "markdown",
   "source": [
    "## Matrix"
   ],
   "metadata": {}
  },
  {
   "cell_type": "code",
   "execution_count": null,
   "source": [
    "rank_2_tensor = tf.constant([[1, 2, 3],[2, 3, 4],[4, 5, 6]], dtype=tf.float16)\r\n",
    "print(rank_2_tensor)"
   ],
   "outputs": [],
   "metadata": {}
  },
  {
   "cell_type": "markdown",
   "source": [
    "## Dimension more than 2"
   ],
   "metadata": {}
  },
  {
   "cell_type": "code",
   "execution_count": null,
   "source": [
    "rank_3_tensor = tf.constant([[[0, 1, 2, 3, 4],[5, 6, 7, 8, 9]],\r\n",
    "                             [[10, 11, 12, 13, 14],[15, 16, 17, 18, 19]],\r\n",
    "                             [[20, 21, 22, 23, 24],[25, 26, 27, 28, 29]]])\r\n",
    "print(rank_3_tensor)"
   ],
   "outputs": [],
   "metadata": {}
  },
  {
   "cell_type": "markdown",
   "source": [
    "## Other types of tensor"
   ],
   "metadata": {}
  },
  {
   "cell_type": "code",
   "execution_count": null,
   "source": [
    "string_tensor=tf.constant('Hello World')\r\n",
    "print(string_tensor)\r\n",
    "bool_tensor=tf.constant([True,False])\r\n",
    "print(bool_tensor)"
   ],
   "outputs": [],
   "metadata": {}
  },
  {
   "cell_type": "code",
   "execution_count": null,
   "source": [
    "bool_tensor2=tf.constant(True)\r\n",
    "print(bool_tensor2 is True)"
   ],
   "outputs": [],
   "metadata": {}
  },
  {
   "cell_type": "markdown",
   "source": [
    "## dtype"
   ],
   "metadata": {}
  },
  {
   "cell_type": "code",
   "execution_count": null,
   "source": [
    "print(tf.constant(123456789,dtype=tf.int16))\r\n",
    "print(tf.constant(123456789,dtype=tf.int32))"
   ],
   "outputs": [],
   "metadata": {}
  },
  {
   "cell_type": "code",
   "execution_count": null,
   "source": [
    "print(rank_0_tensor.dtype)"
   ],
   "outputs": [],
   "metadata": {}
  },
  {
   "cell_type": "code",
   "execution_count": null,
   "source": [
    "change_tensor=tf.constant(123456789,dtype=tf.int32)\r\n",
    "print(change_tensor)\r\n",
    "change_tensor=tf.cast(change_tensor,tf.float64)\r\n",
    "print(change_tensor)\r\n",
    "print(tf.cast(rank_1_tensor,tf.bool))"
   ],
   "outputs": [],
   "metadata": {}
  },
  {
   "cell_type": "markdown",
   "source": [
    "## ones and zeros"
   ],
   "metadata": {}
  },
  {
   "cell_type": "code",
   "execution_count": null,
   "source": [
    "print(tf.zeros([3,2]))\r\n",
    "print(tf.ones([2,3]))\r\n",
    "print(tf.zeros_like(rank_3_tensor))"
   ],
   "outputs": [],
   "metadata": {}
  },
  {
   "cell_type": "markdown",
   "source": [
    "## Create your own tensor"
   ],
   "metadata": {}
  },
  {
   "cell_type": "code",
   "execution_count": null,
   "source": [
    "print(tf.fill([2,2],99))"
   ],
   "outputs": [],
   "metadata": {}
  },
  {
   "cell_type": "code",
   "execution_count": null,
   "source": [
    "print(tf.reshape(tf.range(3,15,delta=2),[2,-1]))"
   ],
   "outputs": [],
   "metadata": {}
  },
  {
   "cell_type": "code",
   "execution_count": null,
   "source": [
    "print(tf.random.normal([3,3],mean=4,stddev=2))"
   ],
   "outputs": [],
   "metadata": {}
  },
  {
   "cell_type": "code",
   "execution_count": null,
   "source": [
    "indices = tf.constant([[0,1,2], [0,0,4], [2,1,3], [1,0,2]])\r\n",
    "data = tf.constant([2, 4, 6, 8])\r\n",
    "\r\n",
    "print(tf.scatter_nd(indices=indices,updates=data,shape=rank_3_tensor.shape))"
   ],
   "outputs": [],
   "metadata": {}
  },
  {
   "cell_type": "markdown",
   "source": [
    "## Slicing"
   ],
   "metadata": {}
  },
  {
   "cell_type": "code",
   "execution_count": null,
   "source": [
    "slicing_tensor=tf.reshape(tf.range(64),[4,4,4])\r\n",
    "slicing_tensor"
   ],
   "outputs": [],
   "metadata": {}
  },
  {
   "cell_type": "code",
   "execution_count": null,
   "source": [
    "print(slicing_tensor[2][2])\r\n",
    "print(slicing_tensor[:2,...,1:3])"
   ],
   "outputs": [],
   "metadata": {}
  },
  {
   "cell_type": "code",
   "execution_count": null,
   "source": [
    "print(tf.slice(slicing_tensor,begin=[1, 1, 0],size=[2, 1, 2]))"
   ],
   "outputs": [],
   "metadata": {}
  },
  {
   "cell_type": "code",
   "execution_count": null,
   "source": [
    "print(tf.gather(slicing_tensor,indices=[2,0],axis=1))"
   ],
   "outputs": [],
   "metadata": {}
  },
  {
   "cell_type": "code",
   "execution_count": null,
   "source": [
    "slicing_tensor"
   ],
   "outputs": [],
   "metadata": {}
  },
  {
   "cell_type": "code",
   "execution_count": null,
   "source": [
    "print(tf.gather_nd(slicing_tensor,indices=[[1,3],[0,2],[0,3]]))"
   ],
   "outputs": [],
   "metadata": {}
  },
  {
   "cell_type": "markdown",
   "source": [
    "## Broadcasting"
   ],
   "metadata": {}
  },
  {
   "cell_type": "code",
   "execution_count": null,
   "source": [
    "x=tf.reshape(tf.range(8.),[2,4])\r\n",
    "w=tf.reshape(tf.range(12.),[4,3])\r\n",
    "b=tf.ones([3])\r\n",
    "y=x@w+b\r\n",
    "print(y,'\\n',x@w)"
   ],
   "outputs": [],
   "metadata": {}
  },
  {
   "cell_type": "code",
   "execution_count": null,
   "source": [
    "A=tf.reshape(tf.range(8),[8,1])\r\n",
    "print(A)\r\n",
    "print(tf.broadcast_to(A,[2,2,8,3]))"
   ],
   "outputs": [],
   "metadata": {}
  },
  {
   "cell_type": "code",
   "execution_count": null,
   "source": [
    "a1=tf.constant([[1],[3],[5]])\r\n",
    "a2=tf.constant([2,4,5])\r\n",
    "print(a1+a2)"
   ],
   "outputs": [],
   "metadata": {}
  },
  {
   "cell_type": "code",
   "execution_count": null,
   "source": [
    "print(tf.broadcast_to(a1,[3,3]))\r\n",
    "print(tf.broadcast_to(a2,[3,3]))"
   ],
   "outputs": [],
   "metadata": {}
  },
  {
   "cell_type": "markdown",
   "source": [
    "# Variable"
   ],
   "metadata": {}
  },
  {
   "cell_type": "code",
   "execution_count": null,
   "source": [
    "rank_1_Variable=tf.Variable(rank_1_tensor)\r\n",
    "print(rank_1_Variable)\r\n",
    "rank_2_Variable=tf.Variable([[1, 2, 3],[2, 3, 4],[4, 5, 6]])\r\n",
    "print(rank_2_Variable)"
   ],
   "outputs": [],
   "metadata": {}
  },
  {
   "cell_type": "code",
   "execution_count": null,
   "source": [
    "rank_2_Variable.assign_add(tf.ones([3,3],dtype=tf.int32))\r\n",
    "rank_2_Variable"
   ],
   "outputs": [],
   "metadata": {}
  }
 ],
 "metadata": {
  "kernelspec": {
   "name": "python3",
   "display_name": "Python 3.9.7 64-bit ('tf2': conda)"
  },
  "language_info": {
   "codemirror_mode": {
    "name": "ipython",
    "version": 3
   },
   "file_extension": ".py",
   "mimetype": "text/x-python",
   "name": "python",
   "nbconvert_exporter": "python",
   "pygments_lexer": "ipython3",
   "version": "3.9.7"
  },
  "interpreter": {
   "hash": "f45ee7c8811c505473c63122c080a443c5e15828fbf819d8ba83daa4fba756a0"
  }
 },
 "nbformat": 4,
 "nbformat_minor": 5
}